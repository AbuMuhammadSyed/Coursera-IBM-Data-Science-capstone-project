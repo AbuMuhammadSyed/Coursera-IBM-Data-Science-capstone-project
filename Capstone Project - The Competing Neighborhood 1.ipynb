{
    "cells": [
        {
            "cell_type": "markdown",
            "metadata": {
                "collapsed": true
            },
            "source": "# Capstone Project - The Competing Neighborhoods (Week 1)\n### Applied Data Science Capstone by IBM/Coursera"
        },
        {
            "cell_type": "markdown",
            "metadata": {},
            "source": "## Table of contents\n* [I Introduction: Business Problem](#introduction)\n* [II Data](#data)"
        },
        {
            "cell_type": "markdown",
            "metadata": {},
            "source": "## Introduction: Business Problem <a name=\"introduction\"></a>"
        },
        {
            "cell_type": "markdown",
            "metadata": {},
            "source": "In this capstone project a new restaurant's sutable/profitable/optimal location will be found. Particularly, the stakeholders are interested in **Hyderabdi restaurant** in **Chennai**, **India**. \n\nThere are so many restaurants in Chennai we will choose such **a place/location where there are less resturants**. Also, we also needs to choose such a **location where there are no Hyderabadi restuarants nearby**. Furthermore, we also take care that the **prefer places/lactions should be as close as possible to the city center**, along with the first two criteria are met.\n\nWe will recommend the most suitable palces/neighborhoods based above mentioned criteria using the skills we learn during this long journey of Data Science Course. So stakeholders can choose best, suitable, possible area/location as we explain pros and cons each location in clear and easy way. "
        },
        {
            "cell_type": "markdown",
            "metadata": {},
            "source": "## Data/Dataset <a name=\"data\"></a>"
        },
        {
            "cell_type": "markdown",
            "metadata": {},
            "source": "As we defined our problem and based on this, Our deicsion is influenced by following criteria/factors:\n    \n* The number of already existing restaurants(can be of any type) in the area/neighborhood\n* If any, how many number of and far to Hyderabadi resturants\n* From the heart of the city, the neighborhood is how much far away\n\nTo define our neighborhood/area, we will use regularly spaced grid of locations, centered aoround heart of the city.\n\n\nTo extract/generate the required information, below data sources will be required :\n* Using **Google Maps API reverse geocoding** centers of candidate areas will be generated algorithmically and approximate addresses of centers of those areas will be obtained\n* And **Foursquare API** number of restaurants & their type and location in every area/neighborhood will be obtained\n* Using **Google Maps API geocoding**, center, famous and heart location of Chennai (Triplicane) will be obtained."
        },
        {
            "cell_type": "code",
            "execution_count": null,
            "metadata": {},
            "outputs": [],
            "source": ""
        }
    ],
    "metadata": {
        "kernelspec": {
            "display_name": "Python 3.6",
            "language": "python",
            "name": "python3"
        },
        "language_info": {
            "codemirror_mode": {
                "name": "ipython",
                "version": 3
            },
            "file_extension": ".py",
            "mimetype": "text/x-python",
            "name": "python",
            "nbconvert_exporter": "python",
            "pygments_lexer": "ipython3",
            "version": "3.6.9"
        }
    },
    "nbformat": 4,
    "nbformat_minor": 1
}